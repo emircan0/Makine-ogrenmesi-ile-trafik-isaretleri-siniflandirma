{
 "cells": [
  {
   "cell_type": "code",
   "execution_count": 1,
   "id": "55262083",
   "metadata": {},
   "outputs": [],
   "source": [
    "import tkinter as tk\n",
    "from tkinter import filedialog\n",
    "from tkinter import *\n",
    "from PIL import ImageTk, Image\n",
    "import numpy as np\n",
    "from keras.models import load_model"
   ]
  },
  {
   "cell_type": "code",
   "execution_count": 2,
   "id": "293f04fe",
   "metadata": {},
   "outputs": [],
   "source": [
    "model = load_model('model.h5')"
   ]
  },
  {
   "cell_type": "code",
   "execution_count": 3,
   "id": "a48ca3c9",
   "metadata": {},
   "outputs": [],
   "source": [
    "#Trafik işareti sınıfları\n",
    "siniflar = {  1:'Hız Sınırı (20km/s)',\n",
    "             2:'Hız Sınırı (30km/s)',\n",
    "             3:'Hız Sınırı (50km/s)',\n",
    "             4:'Hız Sınırı (60km/s)',\n",
    "             5:'Hız Sınırı (70km/s)',\n",
    "             6:'Hız Sınırı (80km/s)',\n",
    "             7:'Hız Sınırlaması Sonu',\n",
    "             8:'Hız Sınırı (100km/s)',\n",
    "             9:'Hız Sınırı (120km/s)',\n",
    "             10:'Sollamak Yasaktır',\n",
    "             11:'Kamyonlar için Sollamak Yasaktır',\n",
    "             12:'Ana Yol Tali-Yol Kavşağı',\n",
    "             13:'Anayol',\n",
    "             14:'Yol Ver',\n",
    "             15:'Dur',\n",
    "             16:'Taşıt Trafiğine Kapalı Yol',\n",
    "             17:'Kamyon Giremez',\n",
    "             18:'Giriş Olmayan Yol',\n",
    "             19:'Dikkat',\n",
    "             20:'Sola Tehlikeli Viraj ',\n",
    "             21:'Sağa Tehlikeli Viraj',\n",
    "             22:'Sola Tehlikeli Devamlı Virajlar',\n",
    "             23:'Engebeli yol',\n",
    "             24:'Kaygan yol',\n",
    "             25:'Sağdan Daralan Kaplama',\n",
    "             26:'Yol Çalışması',\n",
    "             27:'Işıklı İşaret Cihazı',\n",
    "             28:'Yaya Yolu',\n",
    "             29:'Okul Geçidi',\n",
    "             30:'Bisiklet Geçebilir',\n",
    "             31:'Gizli Buzlanma',\n",
    "             32:'Vahşi Hayvanlar Geçebilir',\n",
    "             33:'Bütün Yasaklama Ve Kısıtlamaların Sonu ',\n",
    "             34:'Sağa Mecburi Yön',\n",
    "             35:'Sola Mecburi Yön',\n",
    "             36:'İleri Mecburi Yön',\n",
    "             37:'Sağ Ve İleri Mecburi Yön',\n",
    "             38:'Sol Ve İleri Mecburi Yön',\n",
    "             39:'Sağdan Gidiniz',\n",
    "             40:'Soldan Gidiniz',\n",
    "             41:'Ada Etrafında Dönünüz',\n",
    "             42:'Geçme Yasağı Sonu',\n",
    "             43:'Kamyonlar İçin Geçme Yasağı Sonu' }"
   ]
  },
  {
   "cell_type": "code",
   "execution_count": 4,
   "id": "64ab779f",
   "metadata": {},
   "outputs": [],
   "source": [
    "#GUI'yi başlat\n",
    "gui=tk.Tk()\n",
    "gui.geometry('800x600')\n",
    "gui.title('Trafik İşaretleri Sınıflandırma')\n",
    "gui.configure(background='#BFBFC2')\n",
    "etiket=Label(gui,background='#BFBFC2', font=('arial',15,'bold'))\n",
    "isaret_image = Label(gui)"
   ]
  },
  {
   "cell_type": "code",
   "execution_count": 5,
   "id": "dfc5b814",
   "metadata": {},
   "outputs": [],
   "source": [
    "def classify(dosya):\n",
    "    global label_packed\n",
    "    image = Image.open(dosya)\n",
    "    image = image.resize((30,30))\n",
    "    image = np.expand_dims(image, axis=0)\n",
    "    image = np.array(image)\n",
    "    tahmin  = model.predict([image])[0]\n",
    "    siniflar_1=np.argmax(tahmin,axis=0)\n",
    "    print(siniflar_1)\n",
    "    gecici_sinif = siniflar_1+1\n",
    "    isaret=siniflar[gecici_sinif]\n",
    "    print(isaret[0])\n",
    "    etiket.configure(foreground='#011638', text=isaret) "
   ]
  },
  {
   "cell_type": "code",
   "execution_count": 6,
   "id": "f5d1e8cf",
   "metadata": {},
   "outputs": [],
   "source": [
    "def show_classify_button(dosya):\n",
    "    buton=Button(gui,text=\"Sınıflandırma\",command=lambda: classify(dosya),padx=10,pady=5)\n",
    "    buton.configure(background='#FF0000', foreground='white',font=('arial',10,'bold'))\n",
    "    buton.place(relx=0.79,rely=0.46)"
   ]
  },
  {
   "cell_type": "code",
   "execution_count": 7,
   "id": "46f8131a",
   "metadata": {},
   "outputs": [],
   "source": [
    "def upload_image():\n",
    "    try:\n",
    "        dosya=filedialog.askopenfilename()\n",
    "        uploaded=Image.open(dosya)\n",
    "        uploaded.thumbnail(((gui.winfo_width()/2.25),(gui.winfo_height()/2.25)))\n",
    "        im=ImageTk.PhotoImage(uploaded)\n",
    "        isaret_image.configure(image=im)\n",
    "        isaret_image.image=im\n",
    "        etiket.configure(text='')\n",
    "        show_classify_button(dosya)\n",
    "    except:\n",
    "        pass"
   ]
  },
  {
   "cell_type": "code",
   "execution_count": 8,
   "id": "f3e4322c",
   "metadata": {},
   "outputs": [],
   "source": [
    "upload=Button(gui,text=\"Görsel Yükleme\",command=upload_image,padx=10,pady=5)\n",
    "upload.configure(background='#FF0000', foreground='white',font=('arial',10,'bold'))"
   ]
  },
  {
   "cell_type": "code",
   "execution_count": 9,
   "id": "89b8aeb5",
   "metadata": {},
   "outputs": [],
   "source": [
    "upload.pack(side=BOTTOM,pady=50)\n",
    "isaret_image.pack(side=BOTTOM,expand=True)\n",
    "etiket.pack(side=BOTTOM,expand=True)\n",
    "baslik = Label(gui, text=\"Trafik İşaretleri Sınıflandırma\",pady=20, font=('arial',20,'bold'))\n",
    "baslik.configure(background='#BFBFC2',foreground='#011638')"
   ]
  },
  {
   "cell_type": "code",
   "execution_count": null,
   "id": "9f2e3702",
   "metadata": {},
   "outputs": [
    {
     "name": "stdout",
     "output_type": "stream",
     "text": [
      "1/1 [==============================] - 0s 109ms/step\n",
      "34\n",
      "S\n",
      "1/1 [==============================] - 0s 16ms/step\n",
      "2\n",
      "H\n",
      "1/1 [==============================] - 0s 16ms/step\n",
      "33\n",
      "S\n",
      "1/1 [==============================] - 0s 16ms/step\n",
      "14\n",
      "D\n",
      "1/1 [==============================] - 0s 16ms/step\n",
      "23\n",
      "K\n"
     ]
    }
   ],
   "source": [
    "baslik.pack()\n",
    "gui.mainloop()"
   ]
  }
 ],
 "metadata": {
  "kernelspec": {
   "display_name": "Python 3 (ipykernel)",
   "language": "python",
   "name": "python3"
  },
  "language_info": {
   "codemirror_mode": {
    "name": "ipython",
    "version": 3
   },
   "file_extension": ".py",
   "mimetype": "text/x-python",
   "name": "python",
   "nbconvert_exporter": "python",
   "pygments_lexer": "ipython3",
   "version": "3.9.13"
  }
 },
 "nbformat": 4,
 "nbformat_minor": 5
}
